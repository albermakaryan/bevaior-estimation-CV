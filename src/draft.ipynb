{
 "cells": [
  {
   "cell_type": "code",
   "execution_count": 1,
   "id": "71a15257-23a1-4849-97b5-9635099e9815",
   "metadata": {},
   "outputs": [],
   "source": [
    "from utils.concat import concat_annotations"
   ]
  },
  {
   "cell_type": "code",
   "execution_count": 2,
   "id": "202adbfc-71f9-4723-93af-1dd68901e5f3",
   "metadata": {},
   "outputs": [],
   "source": [
    "root = 'coco_data/'"
   ]
  },
  {
   "cell_type": "code",
   "execution_count": 3,
   "id": "3f5fbb40-3f25-48d3-b399-2690226a3d7d",
   "metadata": {},
   "outputs": [],
   "source": [
    "full_ann,full_for_each = concat_annotations(root,\"\")"
   ]
  },
  {
   "cell_type": "code",
   "execution_count": 4,
   "id": "2929f207-8076-4617-aa09-393a1faefe3b",
   "metadata": {},
   "outputs": [
    {
     "data": {
      "text/plain": [
       "{'id': 63729,\n",
       " 'image_id': 23270,\n",
       " 'category_id': 11,\n",
       " 'bbox': [233, 193, 197, 333.5],\n",
       " 'area': 65699.5,\n",
       " 'segmentation': [],\n",
       " 'iscrowd': 0}"
      ]
     },
     "execution_count": 4,
     "metadata": {},
     "output_type": "execute_result"
    }
   ],
   "source": [
    "full_ann['annotations'][-1]"
   ]
  },
  {
   "cell_type": "code",
   "execution_count": 5,
   "id": "61c74758-60c2-4df3-8443-07f56fa1598e",
   "metadata": {},
   "outputs": [],
   "source": [
    "files_names = []\n",
    "\n",
    "images = full_ann['images']\n",
    "\n",
    "for image in images:\n",
    "    files_names.append(image['file_name'])"
   ]
  },
  {
   "cell_type": "code",
   "execution_count": 6,
   "id": "2110d788-f523-43e7-972d-7af7f2aa0ede",
   "metadata": {},
   "outputs": [
    {
     "data": {
      "text/plain": [
       "23271"
      ]
     },
     "execution_count": 6,
     "metadata": {},
     "output_type": "execute_result"
    }
   ],
   "source": [
    "len(files_names)"
   ]
  },
  {
   "cell_type": "code",
   "execution_count": 7,
   "id": "596c05ba-09dd-40ee-9618-ca704d31dd1b",
   "metadata": {},
   "outputs": [
    {
     "data": {
      "text/plain": [
       "23271"
      ]
     },
     "execution_count": 7,
     "metadata": {},
     "output_type": "execute_result"
    }
   ],
   "source": [
    "len(set(files_names))"
   ]
  },
  {
   "cell_type": "code",
   "execution_count": 8,
   "id": "5116ae7b-94b1-45c1-9055-917a61c66750",
   "metadata": {},
   "outputs": [
    {
     "data": {
      "text/plain": [
       "{'id': 2007,\n",
       " 'license': 1,\n",
       " 'file_name': 'img_001451_jpg.rf.e407b5eb22a90935fdcfbe33aab6b82e.jpg',\n",
       " 'height': 640,\n",
       " 'width': 640,\n",
       " 'date_captured': '2023-02-13T11:28:22+00:00'}"
      ]
     },
     "execution_count": 8,
     "metadata": {},
     "output_type": "execute_result"
    }
   ],
   "source": [
    "full_for_each['affective_coco']['images'][-1]"
   ]
  },
  {
   "cell_type": "code",
   "execution_count": 13,
   "id": "3004f6fd-8a69-4b34-9a82-2da9b14331d3",
   "metadata": {},
   "outputs": [
    {
     "data": {
      "text/plain": [
       "{'id': 21262,\n",
       " 'license': 1,\n",
       " 'file_name': 'S037_001_00000018_png_jpg.rf.ff952652cb74908203796cfc0e359cad.jpg',\n",
       " 'height': 640,\n",
       " 'width': 640,\n",
       " 'date_captured': '2023-12-07T22:37:42+00:00'}"
      ]
     },
     "execution_count": 13,
     "metadata": {},
     "output_type": "execute_result"
    }
   ],
   "source": [
    "full_for_each['emotion_coco']['images'][-1]"
   ]
  },
  {
   "cell_type": "code",
   "execution_count": 12,
   "id": "d3ce084a-e6ef-4872-b9f1-8c5991d8920a",
   "metadata": {},
   "outputs": [],
   "source": [
    "# full_for_each['emot']['images'][-1]"
   ]
  },
  {
   "cell_type": "code",
   "execution_count": 11,
   "id": "3b936e5d-20fa-451f-b8a3-789ec6bd87e0",
   "metadata": {},
   "outputs": [
    {
     "data": {
      "text/plain": [
       "dict_keys(['emotion_coco', 'affective_coco'])"
      ]
     },
     "execution_count": 11,
     "metadata": {},
     "output_type": "execute_result"
    }
   ],
   "source": [
    "full_for_each.keys()"
   ]
  },
  {
   "cell_type": "code",
   "execution_count": 5,
   "id": "f3d513fa-f567-41e9-8416-73ba64452d24",
   "metadata": {},
   "outputs": [],
   "source": [
    "counts = {\"Angry\": 4031, \"Disgust\": 2757, \"Happy\": 5340, \"Natural\": 848, \"Sad\": 2189, \"Surprise\": 6098, \"Boredom\": 348, \"Confusion\": 316, \"Engaged\": 389, \"Frustration\": 365, \"Sleepy\": 372, \"Yawning\": 218}"
   ]
  },
  {
   "cell_type": "code",
   "execution_count": 6,
   "id": "f4994cc5-c499-438d-a1c5-6e245e8d3f16",
   "metadata": {},
   "outputs": [
    {
     "data": {
      "text/plain": [
       "23271"
      ]
     },
     "execution_count": 6,
     "metadata": {},
     "output_type": "execute_result"
    }
   ],
   "source": [
    "sum(list(counts.values()))"
   ]
  },
  {
   "cell_type": "code",
   "execution_count": 7,
   "id": "1a68f716-ff92-425e-9644-ec38dbec5f73",
   "metadata": {},
   "outputs": [
    {
     "data": {
      "text/plain": [
       "[{'id': 0, 'name': 'emotion', 'supercategory': 'none'},\n",
       " {'id': 1, 'name': 'Angry', 'supercategory': 'emotion'},\n",
       " {'id': 2, 'name': 'Disgust', 'supercategory': 'emotion'},\n",
       " {'id': 3, 'name': 'Happy', 'supercategory': 'emotion'},\n",
       " {'id': 4, 'name': 'Natural', 'supercategory': 'emotion'},\n",
       " {'id': 5, 'name': 'Sad', 'supercategory': 'emotion'},\n",
       " {'id': 6, 'name': 'Surprise', 'supercategory': 'emotion'},\n",
       " {'id': 7,\n",
       "  'name': 'Learning-centered-affective-stat',\n",
       "  'supercategory': 'none'},\n",
       " {'id': 8,\n",
       "  'name': 'Boredom',\n",
       "  'supercategory': 'Learning-centered-affective-stat'},\n",
       " {'id': 9,\n",
       "  'name': 'Confusion',\n",
       "  'supercategory': 'Learning-centered-affective-stat'},\n",
       " {'id': 10,\n",
       "  'name': 'Engaged',\n",
       "  'supercategory': 'Learning-centered-affective-stat'},\n",
       " {'id': 11,\n",
       "  'name': 'Frustration',\n",
       "  'supercategory': 'Learning-centered-affective-stat'},\n",
       " {'id': 12,\n",
       "  'name': 'Sleepy',\n",
       "  'supercategory': 'Learning-centered-affective-stat'},\n",
       " {'id': 13,\n",
       "  'name': 'Yawning',\n",
       "  'supercategory': 'Learning-centered-affective-stat'}]"
      ]
     },
     "execution_count": 7,
     "metadata": {},
     "output_type": "execute_result"
    }
   ],
   "source": [
    "full_ann['categories']"
   ]
  },
  {
   "cell_type": "code",
   "execution_count": null,
   "id": "6d981542-766c-4a7e-b319-fd857fa2b03b",
   "metadata": {},
   "outputs": [],
   "source": []
  }
 ],
 "metadata": {
  "kernelspec": {
   "display_name": "Python 3 (ipykernel)",
   "language": "python",
   "name": "python3"
  },
  "language_info": {
   "codemirror_mode": {
    "name": "ipython",
    "version": 3
   },
   "file_extension": ".py",
   "mimetype": "text/x-python",
   "name": "python",
   "nbconvert_exporter": "python",
   "pygments_lexer": "ipython3",
   "version": "3.11.4"
  }
 },
 "nbformat": 4,
 "nbformat_minor": 5
}
